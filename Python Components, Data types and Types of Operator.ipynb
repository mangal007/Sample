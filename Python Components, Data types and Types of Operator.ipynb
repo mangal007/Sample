{
 "cells": [
  {
   "cell_type": "code",
   "execution_count": null,
   "id": "7d3fa207",
   "metadata": {},
   "outputs": [],
   "source": [
    "#Python Components\n",
    "#Literal --> Any Value Integer, float, boolean, string\n",
    "\n",
    "#Identifiers --> Any name like variable, function, constant, class\n",
    "\n",
    "#Reserved words --> Built in function etc\n",
    "\n",
    "#Expression (It always give result) and statements (Just a statement like a=10)\n",
    "\n",
    "#Block and identation --> Like function block or if else elif while def class try block. identation(:) is used to create block\n",
    "\n",
    "#Comments --> '#' is used to write comment\n",
    "\n",
    "#Escape Sequence --> '\\n'=new line, '\\t'= tab space, '\\v'=vertical tab, '\\'=to escape something\n",
    "\n",
    "#Data Types --> Fundamental(Integer, float, complex, boolean, string) Derived(list, tuple, dictionary, set, frozenset, range,bytes,bytearray)\n",
    "\n",
    "#Operators --> Arithematic operations, bitwise operator, \n"
   ]
  },
  {
   "cell_type": "code",
   "execution_count": 1,
   "id": "7c8df0c4",
   "metadata": {},
   "outputs": [],
   "source": [
    "#Data Types\n",
    "# Fundamental data type\n",
    "-->Integer--> Any number without decimal. Can be represented in binary, octal and hexadecimal\n",
    "-->Float  --> decimal number\n",
    "-->Complex--> a+bj, 10+2j\n",
    "-->Boolean--> True and False\n",
    "-->String --> 'python', \"...\", '''....''', \"\"\"....\"\"\" \n",
    "# Derived Data type\n",
    "-->List          -->  []\n",
    "-->tuple         -->  ()\n",
    "-->Dictionary    -->  {key1:value1, key2:value2} ---{'name':'sanchit', 'age':30}\n",
    "-->Set           -->  {10,20,30,40} --->Set of any unique values\n",
    "-->Frozenset     --> {10,20,30,40} ---> Set of unique value but they are modifiable\n",
    "-->Range         -->  range(start,stop, step)\n",
    "-->Byte          --> It is and array which represent data in byte.\n",
    "-->Bytearray"
   ]
  },
  {
   "cell_type": "code",
   "execution_count": null,
   "id": "04f7fa2a",
   "metadata": {},
   "outputs": [],
   "source": [
    "#Operators\n",
    "    1.Arithematic--> +, -, *, /(True or float Division), //(floor division), %(Modulo operation), **(Exponent) \n",
    "    2.Comparision--> <, <=, >, >=\n",
    "    3.Equality--> ==, !=\n",
    "    4.Logical--> and, or, not\n",
    "    5.Bitwise--> &, |, ^, ~, <<, >>\n",
    "    6.Assignment--> =\n",
    "    7.Compound assignment--> +=, -=, *=, /=, //=, %=, **=, &=, |=, ^=, ~=, <<=, >>=\n",
    "    8.Membership-->in, not in\n",
    "    9.Identity-->is, is not\n",
    "    10.Ternary operator-->exp1 if cond1 else exp2 \n",
    "    11.operator precedence"
   ]
  },
  {
   "cell_type": "code",
   "execution_count": null,
   "id": "5a4b67c9",
   "metadata": {},
   "outputs": [],
   "source": [
    "11. #Operator Precedence\n",
    "\n",
    "# Operators                                     \tMeaning\n",
    "# ()                                            \tParentheses\n",
    "# **                                            \tExponent\n",
    "# +x, -x, ~x                                    \tUnary plus, Unary minus, Bitwise NOT\n",
    "# *, /, //, %                                   \tMultiplication, Division, Floor division, Modulus\n",
    "# +, -                                          \tAddition, Subtraction\n",
    "# <<, >>                                        \tBitwise shift operators\n",
    "# &                                             \tBitwise AND\n",
    "# ^                                             \tBitwise XOR\n",
    "# |                                             \tBitwise OR\n",
    "# ==, !=, >, >=, <, <=, is, is not, in, not in  \tComparisons, Identity, Membership operators\n",
    "# not                                           \tLogical NOT\n",
    "# and                                           \tLogical AND\n",
    "# or                                            \tLogical OR\n"
   ]
  },
  {
   "cell_type": "code",
   "execution_count": 7,
   "id": "7cb9971a",
   "metadata": {},
   "outputs": [],
   "source": [
    "#list can be modified and their address id remain same\n",
    "lst =[10,20,30]\n",
    "print('befor operation')\n",
    "print(lst, id(lst))\n",
    "print('after operation')\n",
    "lst[0]=111\n",
    "print(lst, id(lst))\n",
    "\n",
    "#tuple cannot be modified and their address id will change\n",
    "tpl = (10,20,30)\n",
    "print('befor operation')\n",
    "print(tpl, id(tpl))\n",
    "#tpl(0) = (111) --> Will give error\n",
    "tpl = tpl + (111,)\n",
    "print('after operation')\n",
    "print(tpl, id(tpl))"
   ]
  }
 ],
 "metadata": {
  "kernelspec": {
   "display_name": "Python 3",
   "language": "python",
   "name": "python3"
  },
  "language_info": {
   "codemirror_mode": {
    "name": "ipython",
    "version": 3
   },
   "file_extension": ".py",
   "mimetype": "text/x-python",
   "name": "python",
   "nbconvert_exporter": "python",
   "pygments_lexer": "ipython3",
   "version": "3.8.8"
  }
 },
 "nbformat": 4,
 "nbformat_minor": 5
}
