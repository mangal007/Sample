{
 "cells": [
  {
   "cell_type": "markdown",
   "id": "174780dd",
   "metadata": {},
   "source": [
    "# OPERATORS"
   ]
  },
  {
   "cell_type": "markdown",
   "id": "8ea1aed8",
   "metadata": {},
   "source": [
    "###   1. Arithematic operator --> '-', '+', '/', '//', '*', '%', '**'"
   ]
  },
  {
   "cell_type": "code",
   "execution_count": 8,
   "id": "8c37ec09",
   "metadata": {},
   "outputs": [
    {
     "name": "stdout",
     "output_type": "stream",
     "text": [
      "30\n",
      "10\n",
      "200\n",
      "1.5\n",
      "1\n",
      "10\n",
      "100000000000000000000\n",
      "string concatenation--> data type of cooncatenated should be same\n",
      "list can also be concatenated--> [10, 20, 30, 1, 2, 3]\n",
      "tuple can also be concatenated--> (10, 20, 30, 1, 2, 3)\n",
      "Sanchit Sanchit Sanchit \n"
     ]
    }
   ],
   "source": [
    "print(10+20)   #--> Addition\n",
    "print(20-10)   #--> Subtract\n",
    "print(10*20)   #--> Multiply\n",
    "print(30/20)   #--> True/float division....Values in decimals\n",
    "print(30//20)  #--> Floor division...Round off value..floor value. e.g for 9.7, floor value is 9 and ceil value is 10.\n",
    "print(10%20)   #--> Remainder\n",
    "print(10**20)  #--> Exponent(10^2)\n",
    "\n",
    "# Integer and float will work with all arithematic operators\n",
    "# Complex number also works with all arithematic operators except '%' and ??\n",
    "# Concatenation create new object\n",
    "\n",
    "#concatenation\n",
    "print('string concatenation-->', 'data type of cooncatenated '+'should be same')\n",
    "print('list can also be concatenated-->', [10,20,30]+[1,2,3])\n",
    "print('tuple can also be concatenated-->', (10,20,30)+(1,2,3))\n",
    "\n",
    "#Repetition -* - Sequence type\n",
    "print('Sanchit '*3)"
   ]
  },
  {
   "cell_type": "markdown",
   "id": "05a35638",
   "metadata": {},
   "source": [
    "###   2.Comparision operator --->  '<', '>', '<=', '>='"
   ]
  },
  {
   "cell_type": "code",
   "execution_count": 11,
   "id": "8f9abfdc",
   "metadata": {},
   "outputs": [
    {
     "name": "stdout",
     "output_type": "stream",
     "text": [
      "True\n",
      "True\n",
      "True\n"
     ]
    }
   ],
   "source": [
    "#It return Boolean value\n",
    "#It works only with similar data type except Integer and float\n",
    "\n",
    "print(10<20)                        #---> Integer comparision\n",
    "print(10<20.3)                      #---> Integer and float comparision\n",
    "print('Phython'<'python')           #----String and string comparision. It compares there location in dictionary. \n",
    "                                    #     Capital 'P' comes before small'p'. so it is true\n"
   ]
  },
  {
   "cell_type": "markdown",
   "id": "f5ac0c7c",
   "metadata": {},
   "source": [
    "###   3. Equaility operator '==', '!='"
   ]
  },
  {
   "cell_type": "code",
   "execution_count": 17,
   "id": "0bfd186c",
   "metadata": {},
   "outputs": [
    {
     "name": "stdout",
     "output_type": "stream",
     "text": [
      "False\n",
      "False\n",
      "True\n",
      "True\n",
      "True\n",
      "True\n",
      "False\n",
      "True\n"
     ]
    }
   ],
   "source": [
    "#It return Boolean value\n",
    "#It compares the content\n",
    "\n",
    "print(10==29)         #--> false\n",
    "print('a'==20)        #--> false\n",
    "print(10!=29)         #--> true\n",
    "print('a'!=20)        #--> true\n",
    "print(10==10)         #--> true\n",
    "print('python' == 'python')   #-->true\n",
    "print('python ' == 'python')   #-->false, because 1st string has space. so they are not equal\n",
    "print(10==10!=20==20)  #--> True, all comparisions are correct\n"
   ]
  },
  {
   "cell_type": "markdown",
   "id": "e4f40ace",
   "metadata": {},
   "source": [
    "###   4. logical operator 'and', 'or', 'not'"
   ]
  },
  {
   "cell_type": "code",
   "execution_count": 20,
   "id": "60f8697b",
   "metadata": {},
   "outputs": [
    {
     "name": "stdout",
     "output_type": "stream",
     "text": [
      "20\n",
      "0\n",
      "0\n",
      "10\n",
      "10\n",
      "10\n",
      "0\n",
      "0.0\n"
     ]
    }
   ],
   "source": [
    "#They work with logic\n",
    "#logic should always be evalueted as true and false\n",
    "\n",
    "# and Truth table\n",
    "\n",
    "#true and true   --> true\n",
    "#true and false  --> false\n",
    "#false and true  --> false\n",
    "#false and false --> false\n",
    "\n",
    "# or Truth table\n",
    "#true or true   --> true\n",
    "#true or false  --> true\n",
    "#false or true  --> true\n",
    "#false or false --> false\n",
    "\n",
    "# not table\n",
    "\n",
    "#not true  --> false\n",
    "#not false --> true\n",
    "\n",
    "#RULES\n",
    "# A and B   --> Value will always be A, if A is false else B\n",
    "# A or B    --> Values will always be A, if A is true else B\n",
    "\n",
    "# Int   -   0 is always false rest all is true\n",
    "#Float  -   0.0 is always false rest all is true\n",
    "#Complex-   0+0j is always false rest all is true\n",
    "#String -   '' is always false rest all is true\n",
    "#None is always false\n",
    "# List, tuple, dictionary, set - [], (), {}, Set() are false if empty. True if something is inside\n",
    "\n",
    "print(10 and 20)  #--> 20, becuase A which is 10 is true here so result is 20\n",
    "print(10 and 0)   #--> 0, becuase A which is 10 is true here so result is 0\n",
    "print(0 and 10)   #--> 0, Because A which is 0 is false so 0.\n",
    "\n",
    "print(10 or 20)  #--> 10, becuase A which is 10 is true here so result is 10\n",
    "print(10 or 0)   #--> 10, becuase A which is 10 is true here so result is 10\n",
    "print(0 or 10)   #--> 10, Because A which is 0 is false so result is 10\n",
    "\n",
    "print(0 and 0.0) #--> 0, Because A is 0 which is false\n",
    "print(0 or 0.0)  #--> 0.0, Because A is 0 which is false so result is B which is 0.0"
   ]
  },
  {
   "cell_type": "markdown",
   "id": "aca7653a",
   "metadata": {},
   "source": [
    "###   5. Bitwise operator &, /, ^, ~, <<, >>"
   ]
  },
  {
   "cell_type": "code",
   "execution_count": null,
   "id": "affc418e",
   "metadata": {},
   "outputs": [],
   "source": [
    "# it works on Binary digits of numbers\n",
    "\n",
    "# & = Multiplication\n",
    "# | = Addition\n",
    "# ^ = (A+B)X(A'+B') ---> A' reverse of A if A = 0 then A' = 1. if A = 1 then A' = 0.\n",
    "# ~ = -(n+1)\n",
    "# << = no of bits - num*(2**no of bits)\n",
    "# >> = no of bits - num//(2**no of bits)\n",
    "print(bin(37))\n",
    "print(bin(57))\n",
    "print(37 & 57)\n",
    "100101\n",
    "111001\n",
    "#Multiplication of both binary--> If anyone is 0 then muliplication is 0\n",
    "100001\n",
    "print(0b100001)\n",
    "\n",
    "print(37 | 57)\n",
    "100101\n",
    "111001\n",
    "#Addition of both binary--> if anyone is 1 then additon is 1\n",
    "111101\n",
    "print(0b111101)\n",
    "\n",
    "print(37 ^ 57)\n",
    "100101\n",
    "111001\n",
    "#(A+B)X(A'+B') of both binary\n",
    "#011100\n",
    "#remove 1st zero\n",
    "print(0b11100)\n",
    "\n",
    "#print(37<<2) #--- 100101\n",
    "#print(37*(2**2))\n",
    "#print(bin(148))"
   ]
  },
  {
   "cell_type": "markdown",
   "id": "105415c6",
   "metadata": {},
   "source": [
    "### 6. Assignment Operator --> \"=\""
   ]
  },
  {
   "cell_type": "code",
   "execution_count": 1,
   "id": "16142abd",
   "metadata": {},
   "outputs": [],
   "source": [
    "#It assigns value to variable\n",
    "f_name = \"Sanchit\"\n"
   ]
  },
  {
   "cell_type": "markdown",
   "id": "9097ada3",
   "metadata": {},
   "source": [
    "### 7. Compund assignment--> +=, -=, *=, /=, //=, %=, **=, &=, |=, ^=, ~=, <<=, >>= "
   ]
  },
  {
   "cell_type": "code",
   "execution_count": null,
   "id": "1969ff24",
   "metadata": {},
   "outputs": [],
   "source": [
    "a = 10\n",
    "a = a+2\n",
    "print(a)\n",
    "#Instead of writing it as a = a+2 it can be written as a += 2\n",
    "b= 10\n",
    "b +=2\n",
    "print(b)"
   ]
  },
  {
   "cell_type": "markdown",
   "id": "c0452865",
   "metadata": {},
   "source": [
    "### 8. #Membership - in, not in"
   ]
  },
  {
   "cell_type": "code",
   "execution_count": 3,
   "id": "b91d3a16",
   "metadata": {},
   "outputs": [
    {
     "name": "stdout",
     "output_type": "stream",
     "text": [
      "True\n",
      "True\n",
      "False\n",
      "True\n"
     ]
    }
   ],
   "source": [
    "#Itearbles --> String, list, tuple, set, dictionary etc\n",
    "#Iterator type--> enumerate, zip, filter, map, etc\n",
    "#It return Boolean Value\n",
    "my_str = 'peter piper picked'\n",
    "my_dict ={'name':'Sanchit', 'age':30}\n",
    "#In dictionary, name and age is key while Sanchit and 30 is value. So membership operator will check only for key\n",
    "print('p' in my_str)\n",
    "print('peter' in my_str)\n",
    "print('30' in my_dict)  #--->False as 30 is value and not key\n",
    "print('name' in my_dict) #-->True as name is key and not value"
   ]
  },
  {
   "cell_type": "markdown",
   "id": "ff78fabf",
   "metadata": {},
   "source": [
    "### 9. #Identity - is, is not"
   ]
  },
  {
   "cell_type": "code",
   "execution_count": null,
   "id": "60c47f69",
   "metadata": {},
   "outputs": [],
   "source": [
    "#--> This checks memory id location\n",
    "a ='python class'\n",
    "b ='python class'\n",
    "print(a==b)\n",
    "print(a is b)\n",
    "print(a is not b)\n",
    "print(id(a))\n",
    "print(id(b))"
   ]
  },
  {
   "cell_type": "markdown",
   "id": "e3317c9d",
   "metadata": {},
   "source": [
    "### 10. #Ternary operator - exp1 if cond1 else exp2"
   ]
  },
  {
   "cell_type": "code",
   "execution_count": null,
   "id": "67906d57",
   "metadata": {},
   "outputs": [],
   "source": [
    "num1 = int(input('Enter 1st number: '))\n",
    "num2 = int(input('Enter 2nd number: '))\n",
    "num3 = int(input('Enter 3rd number: '))\n",
    "print(num1 if (num1>num2 and num1>num3) else num2 if num2>num3 else num3)"
   ]
  }
 ],
 "metadata": {
  "kernelspec": {
   "display_name": "Python 3",
   "language": "python",
   "name": "python3"
  },
  "language_info": {
   "codemirror_mode": {
    "name": "ipython",
    "version": 3
   },
   "file_extension": ".py",
   "mimetype": "text/x-python",
   "name": "python",
   "nbconvert_exporter": "python",
   "pygments_lexer": "ipython3",
   "version": "3.8.8"
  }
 },
 "nbformat": 4,
 "nbformat_minor": 5
}
