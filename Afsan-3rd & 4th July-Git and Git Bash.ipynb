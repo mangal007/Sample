{
 "cells": [
  {
   "cell_type": "code",
   "execution_count": null,
   "id": "a33d483a",
   "metadata": {},
   "outputs": [],
   "source": [
    "1. Git Github\n",
    "2. Linux Commands\n",
    "3. Git github practical session\n",
    "4. Core python\n",
    "5. numpy\n",
    "6. pandas\n",
    "7. Visulaization Libraries -mathplot lib, seasborn\n",
    "8. usecase 1 or 2"
   ]
  },
  {
   "cell_type": "code",
   "execution_count": null,
   "id": "e6a7ad76",
   "metadata": {},
   "outputs": [],
   "source": [
    "#git was discovered to track of changes. Basically it keeps backup\n",
    "#git can revert back changes\n",
    "#VCS = version control system\n",
    "#git is VCS"
   ]
  },
  {
   "cell_type": "code",
   "execution_count": null,
   "id": "bd8f64dd",
   "metadata": {},
   "outputs": [],
   "source": [
    "#Basic Linux commands\n",
    "ls                     --> list of file on currect directory\n",
    "ls -a                  --> to see all files including hidden\n",
    "pwd                    --> present working Directory\n",
    "cd _____               --> to enter into particular folder--> it is not case sensitive for Windows\n",
    "cd 'name folder'       --> if Folder name has space then use'' to wirte folder name\n",
    "mkdir 'folder name'    --> if you want folder with space. If there is no '' then it will create multiple folders\n",
    "mkdir f1 f2 f3         --> Then it will create three folders\n",
    "cd ..                  --> To move back one step in path\n",
    "rmdir 'folder name'    --> Remove a directory. This command will one delete folder which is empty. If folder has other files or folders then it will not delete it.\n",
    "'-'                    --> It's called as flag\n",
    "rm -r 'folder name'    --> To delete a folder or files. This will delete even folder has other files or folders.\n",
    "eco\n",
    "vim\n",
    "tab command is used to automatically complete the unique name but if you have same name then it will give options of thos names."
   ]
  },
  {
   "cell_type": "code",
   "execution_count": null,
   "id": "17dcd773",
   "metadata": {},
   "outputs": [],
   "source": [
    "#Type of VCS\n",
    "1. Centralised --> No Local Repository. Directly linked to server\n",
    "2. Decentralised --> Local Repository is there. Even if global/central server is down, users can work and later on push code on central server."
   ]
  },
  {
   "cell_type": "code",
   "execution_count": null,
   "id": "fcfdcff4",
   "metadata": {},
   "outputs": [],
   "source": [
    "#Key terms\n",
    "#Repository -- As Directory\n",
    " #1. Local Repository --Local system -- .git folder\n",
    " #2. Remote Repository --Github\n",
    "#Working Directory-- Where write our code or python file\n",
    "#Staging area --Index are--This will be tracked by git system. Buffer area to review code before commiting your code.\n",
    "\n",
    "#Order of Decentralised VCS:-\n",
    "\n",
    "                       (ADD)              (COMMIT)                   (PUSH)\n",
    "    Working Directory ------>Staging Area---------->Local Repository-------->Remote Repository\n",
    "                                                                     (PULL)\n",
    "        \n",
    "#ADD    --> Command to move file from Working Directory to staging area\n",
    "#COMMIT --> Command to move file from staging area to Local repository\n",
    "#PUSH   --> Command to move file from Local repository to remote repository\n",
    "#PULL   --> Command to move file from remote repository to Local repository\n",
    "\n",
    "#In order to movie files from working directory to Remote directory, first we need to connect working and remote directory\n",
    " which is git remote add origin. Then we need to configure system to do add, commit, push and pull. For which we need different\n",
    " Commands, as written below."
   ]
  },
  {
   "cell_type": "code",
   "execution_count": null,
   "id": "e2f332a3",
   "metadata": {},
   "outputs": [],
   "source": [
    "#if same file pushed by two persons then github will raise 'conflict error'"
   ]
  },
  {
   "cell_type": "code",
   "execution_count": null,
   "id": "4aab9fef",
   "metadata": {},
   "outputs": [],
   "source": [
    "#Setup Commands\n",
    "    1. Open Gitbash- Window user.\n",
    "    2. Open Terminal- Apple and Linux user\n",
    "mkdir secret_project                                  --> To Create folder name 'Secret project'\n",
    "cd secret_project                                     --> To enter into this folder\n",
    "#To setup username and email id\n",
    "git init                                              --> It will make folder as Git Repository. It means there is \n",
    "                                                          a hidden folder named as '.git'\n",
    "git config --global user.name 'your name'             --> To create username\n",
    "git config --global user.email abc@gmail.com          --> To setup email id\n",
    "git config --global core.autocrlf true                --> This command is to make the code readable for apple and windows user\n",
    "                                                          automatically. 'True' for windows user and 'input' for apple and linux.\n",
    "#Setting done\n",
    "#Create Repository on github account.\n",
    "#Now we create some file in our folder\n",
    "touch f1.py                                           --> Create a file name as 'f1.py'\n",
    "touch f2.py                                           --> Create a file name as 'f2.py'\n",
    "touch f3.py                                           --> Create a file name as 'f3.py'\n",
    "echo 'hellpython!!' > f3.py                           --> This will write a single line code in f3.py. But It can write only single line code\n",
    "cat f3.py                                             --> This command will display code of f3.py file\n",
    "vim f4.py                                             --> This will open a vim editor to write your code.\n",
    "                                                      --> Press 'i' in vim editor to intializing writing of code\n",
    "                                                      --> Press 'Esc' then ':wq' to exit vim editor\n",
    "git status                                            --> Give you status of files. wheter they are tracked or untracked.\n",
    "git add f1.py f2.py                                   --> To move selected files like f1 and f2 into staging area\n",
    "git add *.py                                          --> To move all the '.py' files into staging area.\n",
    "git add .                                             --> To move all the files into folder into staging area\n",
    "# git add command will change status of files to Committed.\n",
    "# if you want to remove it from staging area then command is\n",
    "git rm --cached f4.py                                 --> It will move file from staging area to working directory that is untracked.\n",
    "git commit -m 'write message'                         --> To move file to local repository. Writing message is complusory\n",
    "git commit . -m 'write message'                       --> ALternate to commit files\n",
    "git commit f1.py -m 'write message'                   --> To commit only one file\n",
    "# Now files are moved from commited to local repository.\n",
    "# How to see files in local repository. We need path of github repository which we created and we have to do the linking.\n",
    "git remote -v                                          --> To check if repository is linked to anyone\n",
    "git remote add origin https://github.com/mangal007/Sample.git   --> To link\n",
    "git branch   ---> If it give master then write--> git push -f origin master / git push origin master\n",
    "git branch   ---> If it give main then write--> git push -f origin main / git push origin main\n",
    "#Some othe commands\n",
    "git log      ---> It will give you the log of changes\n",
    "# Then it will ask for confirmations in default browser. Do that then it will push files into server.  \n",
    "#Instead of linking existing folder on Local system we can clone the repository from github to out local\n",
    "# Cloned repository will be automatically linked to github and files can be pushed directly\n",
    "git clone https://github.com/mangal007/Sample.git       --> to clone the file\n",
    "\n"
   ]
  },
  {
   "cell_type": "code",
   "execution_count": null,
   "id": "5639171d",
   "metadata": {},
   "outputs": [],
   "source": []
  },
  {
   "cell_type": "code",
   "execution_count": null,
   "id": "1357a0a3",
   "metadata": {},
   "outputs": [],
   "source": []
  },
  {
   "cell_type": "code",
   "execution_count": null,
   "id": "8449c4ae",
   "metadata": {},
   "outputs": [],
   "source": []
  }
 ],
 "metadata": {
  "kernelspec": {
   "display_name": "Python 3",
   "language": "python",
   "name": "python3"
  },
  "language_info": {
   "codemirror_mode": {
    "name": "ipython",
    "version": 3
   },
   "file_extension": ".py",
   "mimetype": "text/x-python",
   "name": "python",
   "nbconvert_exporter": "python",
   "pygments_lexer": "ipython3",
   "version": "3.8.8"
  }
 },
 "nbformat": 4,
 "nbformat_minor": 5
}
